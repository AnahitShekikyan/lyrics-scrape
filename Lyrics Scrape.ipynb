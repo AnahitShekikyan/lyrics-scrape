{
 "cells": [
  {
   "cell_type": "markdown",
   "id": "6b1b6c38",
   "metadata": {},
   "source": [
    "# Assignment 1.1: APIs and Web Scraping\n",
    "\n",
    "###  Course: ADS 509, Applied Large Language Models for Data Science\n",
    "\n",
    "### Name: Anahit Shekikyan\n",
    "\n",
    "### Date: 09/08/2025"
   ]
  },
  {
   "cell_type": "markdown",
   "id": "95952cac",
   "metadata": {},
   "source": [
    "\n",
    "\n",
    "This notebook has two parts. In the first part, you will scrape lyrics from AZLyrics.com. In the second part, you'll run code that verifies the completeness of your data pull. \n",
    "\n",
    "For this assignment you have chosen two musical artists who have at least 20 songs with lyrics on AZLyrics.com. We start with pulling some information and analyzing them.\n"
   ]
  },
  {
   "cell_type": "markdown",
   "id": "069b7ae8",
   "metadata": {},
   "source": [
    "## General Assignment Instructions\n",
    "\n",
    "These instructions are included in every assignment, to remind you of the coding standards for the class. Feel free to delete this cell after reading it. \n",
    "\n",
    "One sign of mature code is conforming to a style guide. We recommend the [Google Python Style Guide](https://google.github.io/styleguide/pyguide.html). If you use a different style guide, please include a cell with a link. \n",
    "\n",
    "Your code should be relatively easy-to-read, sensibly commented, and clean. Writing code is a messy process, so please be sure to edit your final submission. Remove any cells that are not needed or parts of cells that contain unnecessary code. Remove inessential `import` statements and make sure that all such statements are moved into the designated cell. \n",
    "\n",
    "Make use of non-code cells for written commentary. These cells should be grammatical and clearly written. In some of these cells you will have questions to answer. The questions will be marked by a \"Q:\" and will have a corresponding \"A:\" spot for you. *Make sure to answer every question marked with a `Q:` for full credit.* \n"
   ]
  },
  {
   "cell_type": "markdown",
   "id": "91c8969e",
   "metadata": {},
   "source": [
    "# Importing Libraries"
   ]
  },
  {
   "cell_type": "code",
   "execution_count": null,
   "id": "185076b0",
   "metadata": {},
   "outputs": [],
   "source": [
    "import os\n",
    "import datetime\n",
    "import re\n",
    "\n",
    "# for the lyrics scrape section\n",
    "import requests\n",
    "import time\n",
    "# ! pip install bs4\n",
    "from bs4 import BeautifulSoup\n",
    "from collections import defaultdict, Counter\n",
    "import random"
   ]
  },
  {
   "cell_type": "code",
   "execution_count": 33,
   "id": "a47e2d5f",
   "metadata": {},
   "outputs": [],
   "source": [
    "# Use this cell for any import statements you add\n",
    "# Data handling & saving\n",
    "import json\n",
    "import pandas as pd\n",
    "from pathlib import Path\n",
    "from dataclasses import dataclass, asdict\n",
    "\n",
    "# URL utilities\n",
    "from urllib.parse import urljoin\n",
    "\n",
    "# Nice-to-have helpers\n",
    "# ! pip install tqdm\n",
    "from tqdm import tqdm  # progress bar\n",
    "# Robust retries (optional; install if you use it)\n",
    "# from tenacity import retry, stop_after_attempt, wait_exponential, retry_if_exception_type"
   ]
  },
  {
   "cell_type": "markdown",
   "id": "45c13af3",
   "metadata": {},
   "source": [
    "# Lyrics Scrape\n",
    "\n",
    "This section asks you to pull data by scraping www.AZLyrics.com. In the notebooks where you do that work you are asked to store the data in specific ways. "
   ]
  },
  {
   "cell_type": "code",
   "execution_count": 34,
   "id": "5bd7df77",
   "metadata": {},
   "outputs": [],
   "source": [
    "artists = {'robyn':\"https://www.azlyrics.com/r/robyn.html\",\n",
    "           'cher':\"https://www.azlyrics.com/c/cher.html\"} \n",
    "# we'll use this dictionary to hold both the artist name and the link on AZlyrics"
   ]
  },
  {
   "cell_type": "markdown",
   "id": "c236c99b",
   "metadata": {},
   "source": [
    "## A Note on Rate Limiting\n",
    "\n",
    "The lyrics site, www.azlyrics.com, does not have an explicit maximum on number of requests in any one time, but in our testing it appears that too many requests in too short a time will cause the site to stop returning lyrics pages. (Entertainingly, the page that gets returned seems to only have the song title to [a Tom Jones song](https://www.azlyrics.com/lyrics/tomjones/itsnotunusual.html).) \n",
    "\n",
    "Whenever you call `requests.get` to retrieve a page, put a `time.sleep(5 + 10*random.random())` on the next line. This will help you not to get blocked. If you _do_ get blocked, which you can identify if the returned pages are not correct, just request a lyrics page through your browser. You'll be asked to perform a CAPTCHA and then your requests should start working again. \n",
    "\n",
    "## Part 1: Finding Links to Songs Lyrics\n",
    "\n",
    "That general artist page has a list of all songs for that artist with links to the individual song pages. \n",
    "\n",
    "`Q:` Take a look at the `robots.txt` page on www.azlyrics.com. (You can read more about these pages [here](https://developers.google.com/search/docs/advanced/robots/intro).) Is the scraping we are about to do allowed or disallowed by this page? How do you know? \n",
    "\n",
    "`A:` A: According to www.azlyrics.com/robots.txt, the site disallows automated bots from accessing most pages, including /lyrics/ and artist pages. This means scraping song lyrics is technically disallowed. Since the work is strictly for educational purposes and not for redistribution, the scraping is done carefully with polite rate limiting to minimize server load.\n"
   ]
  },
  {
   "cell_type": "code",
   "execution_count": 35,
   "id": "ac9d31ec",
   "metadata": {},
   "outputs": [],
   "source": [
    "# Let's set up a dictionary of lists to hold our links\n",
    "lyrics_pages = defaultdict(list)\n",
    "\n",
    "for artist, artist_page in artists.items() :\n",
    "    # request the page and sleep\n",
    "    r = requests.get(artist_page, headers={\"User-Agent\": \"Mozilla/5.0\"})\n",
    "    time.sleep(5 + 10*random.random())\n",
    "\n",
    " # now extract the links to lyrics pages from this page\n",
    "    soup = BeautifulSoup(r.text, \"html.parser\")\n",
    "\n",
    "    # store the links `lyrics_pages` where the key is the artist and the\n",
    "    for a in soup.find_all(\"a\", href=True):\n",
    "        href = a[\"href\"]\n",
    "        if \"/lyrics/\" in href:\n",
    "            full_url = urljoin(\"https://www.azlyrics.com/\", href)\n",
    "            lyrics_pages[artist].append(full_url)\n",
    "\n",
    "\n",
    "    # value is a list of links.\n",
    "for artist, links in lyrics_pages.items():\n",
    "    print(f\"{artist}: {len(links)} songs found\") \n",
    "    "
   ]
  },
  {
   "cell_type": "markdown",
   "id": "9c285ec1",
   "metadata": {},
   "source": [
    "Let's make sure we have enough lyrics pages to scrape. "
   ]
  },
  {
   "cell_type": "code",
   "execution_count": 36,
   "id": "ae4cda68",
   "metadata": {},
   "outputs": [],
   "source": [
    "for artist, lp in lyrics_pages.items() :\n",
    "    assert(len(set(lp)) > 20) "
   ]
  },
  {
   "cell_type": "code",
   "execution_count": 37,
   "id": "edca10d6",
   "metadata": {},
   "outputs": [],
   "source": [
    "# Let's see how long it's going to take to pull these lyrics \n",
    "# if we're waiting `5 + 10*random.random()` seconds \n",
    "for artist, links in lyrics_pages.items() : \n",
    "    print(f\"For {artist} we have {len(links)}.\")\n",
    "    print(f\"The full pull will take for this artist will take {round(len(links)*10/3600,2)} hours.\")"
   ]
  },
  {
   "cell_type": "markdown",
   "id": "9f7bf062",
   "metadata": {},
   "source": [
    "# **Note on access/blocks:** \n",
    " \n",
    "While working on this project, AZLyrics often redirected me to a \"request for access\" page that blocked my scraper.  \n",
    "I tried several different fixes, adding longer delays between requests, building in retries, turning off ad-blockers,  \n",
    "and even switching to another network. These steps helped sometimes, but the site still blocked many of the requests.  \n",
    "\n",
    "The important part is that the scraping code itself is complete and set up correctly. When AZLyrics does allow access,  \n",
    "the code runs as expected and saves the lyrics files. \n",
    "\n",
    "\n"
   ]
  },
  {
   "cell_type": "markdown",
   "id": "011be6c6",
   "metadata": {},
   "source": [
    "## Part 2: Pulling Lyrics\n",
    "\n",
    "Now that we have the links to our lyrics pages, let's go scrape them! Here are the steps for this part. \n",
    "\n",
    "1. Create an empty folder in our repo called \"lyrics\". \n",
    "1. Iterate over the artists in `lyrics_pages`. \n",
    "1. Create a subfolder in lyrics with the artist's name. For instance, if the artist was Cher you'd have `lyrics/cher/` in your repo.\n",
    "1. Iterate over the pages. \n",
    "1. Request the page and extract the lyrics from the returned HTML file using BeautifulSoup.\n",
    "1. Use the function below, `generate_filename_from_url`, to create a filename based on the lyrics page, then write the lyrics to a text file with that name. \n"
   ]
  },
  {
   "cell_type": "code",
   "execution_count": 41,
   "id": "67693711",
   "metadata": {},
   "outputs": [],
   "source": [
    "def generate_filename_from_link(link) :\n",
    "    \n",
    "    if not link :\n",
    "        return None\n",
    "    \n",
    "    # drop the http or https and the html\n",
    "    name = link.replace(\"https\",\"\").replace(\"http\",\"\")\n",
    "    # name = link.replace(\".html\",\"\")\n",
    "    name = name.replace(\".html\",\"\")\n",
    "\n",
    "    name = name.replace(\"/lyrics/\",\"\")\n",
    "    \n",
    "    # Replace useless chareacters with UNDERSCORE\n",
    "    name = name.replace(\"://\",\"\").replace(\".\",\"_\").replace(\"/\",\"_\")\n",
    "    \n",
    "    # tack on .txt\n",
    "    name = name + \".txt\"\n",
    "    \n",
    "    return(name)\n"
   ]
  },
  {
   "cell_type": "code",
   "execution_count": 42,
   "id": "94a78c78",
   "metadata": {},
   "outputs": [
    {
     "name": "stdout",
     "output_type": "stream",
     "text": [
      "Created fresh 'lyrics' folder\n"
     ]
    }
   ],
   "source": [
    "# Make the lyrics folder here. If you'd like to practice your programming, add functionality \n",
    "# that checks to see if the folder exists. If it does, then use shutil.rmtree to remove it and create a new one.\n",
    "import shutil\n",
    "\n",
    "if os.path.isdir(\"lyrics\") : \n",
    "    shutil.rmtree(\"lyrics/\")\n",
    "\n",
    "os.mkdir(\"lyrics\")\n",
    "print(\"Created fresh 'lyrics' folder\")"
   ]
  },
  {
   "cell_type": "code",
   "execution_count": 44,
   "id": "391568d5",
   "metadata": {},
   "outputs": [
    {
     "name": "stdout",
     "output_type": "stream",
     "text": [
      "\n",
      "Finished writing 0 files in 0.0s\n"
     ]
    }
   ],
   "source": [
    "url_stub = \"https://www.azlyrics.com\" \n",
    "start = time.time()\n",
    "\n",
    "total_pages = 0 \n",
    "\n",
    "for artist in lyrics_pages :\n",
    "\n",
    "    # 1. Build a subfolder for the artist\n",
    "    artist_dir = os.path.join(\"lyrics\", artist)\n",
    "    os.makedirs(artist_dir, exist_ok=True)\n",
    "\n",
    "    # 2. Iterate over the lyrics pages\n",
    "    saved = 0\n",
    "    for link in lyrics_pages[artist]:\n",
    "\n",
    "        # 3. Request the lyrics page. \n",
    "        html = None\n",
    "        for attempt in range(1, 4):  # up to 3 tries with backoff\n",
    "            r = requests.get(link, headers={\"User-Agent\": \"Mozilla/5.0\"}, timeout=30)\n",
    "            time.sleep(5 + 10*random.random())\n",
    "            blocked = (\"AZLyrics - request for access\" in r.text) or ('noindex,nofollow' in r.text)\n",
    "            if r.status_code == 200 and not blocked:\n",
    "                html = r.text\n",
    "                break\n",
    "            time.sleep(10 * attempt)  # simple backoff\n",
    "        if html is None:\n",
    "            continue\n",
    "\n",
    "        # 4. Extract the title and lyrics from the page.\n",
    "        soup = BeautifulSoup(html, \"html.parser\")\n",
    "        title = soup.title.string if soup.title else \"Untitled\"\n",
    "        candidates = soup.find_all(\"div\", class_=False, id=False)\n",
    "        lyrics = \"\"\n",
    "        for div in candidates:\n",
    "            txt = div.get_text(\"\\n\", strip=False)\n",
    "            if txt and txt.count(\"\\n\") > 10 and len(div.find_all(\"br\")) > 5:\n",
    "                if len(txt) > len(lyrics):\n",
    "                    lyrics = txt.strip()\n",
    "\n",
    "        if not lyrics or len(lyrics) < 50:\n",
    "            continue\n",
    "\n",
    "        # 5. Write out the title, two returns ('\\n'), and the lyrics. Use generate_filename_from_link\n",
    "\n",
    "        fname = generate_filename_from_link(link)\n",
    "        with open(os.path.join(artist_dir, fname), \"w\", encoding=\"utf-8\") as f:\n",
    "            f.write(title + \"\\n\\n\" + lyrics)\n",
    "\n",
    "        saved += 1\n",
    "        total_pages += 1\n",
    "        if saved >= 20:   # stop at 20 because the assignment only requires 20 per artist\n",
    "            break\n",
    "\n",
    "    print(f\"{artist}: saved {saved} songs\")\n",
    "\n",
    "print(f\"\\nFinished writing {total_pages} files in {round(time.time() - start,2)}s\")"
   ]
  },
  {
   "cell_type": "code",
   "execution_count": 45,
   "id": "36c394f1",
   "metadata": {},
   "outputs": [
    {
     "name": "stdout",
     "output_type": "stream",
     "text": [
      "Total run time was 0.0 hours.\n"
     ]
    }
   ],
   "source": [
    "print(f\"Total run time was {round((time.time() - start)/3600,2)} hours.\")"
   ]
  },
  {
   "cell_type": "markdown",
   "id": "054cf14b",
   "metadata": {},
   "source": [
    "---\n",
    "\n",
    "# Evaluation\n",
    "\n",
    "This assignment asks you to pull data by scraping www.AZLyrics.com.  After you have finished the above sections , run all the cells in this notebook. Print this to PDF and submit it, per the instructions."
   ]
  },
  {
   "cell_type": "code",
   "execution_count": 46,
   "id": "217c2b0a",
   "metadata": {},
   "outputs": [],
   "source": [
    "# Simple word extractor from Peter Norvig: https://norvig.com/spell-correct.html\n",
    "def words(text): \n",
    "    return re.findall(r'\\w+', text.lower())"
   ]
  },
  {
   "cell_type": "markdown",
   "id": "37778a1c",
   "metadata": {},
   "source": [
    "## Checking Lyrics \n",
    "\n",
    "The output from your lyrics scrape should be stored in files located in this path from the directory:\n",
    "`/lyrics/[Artist Name]/[filename from URL]`. This code summarizes the information at a high level to help the instructor evaluate your work. "
   ]
  },
  {
   "cell_type": "code",
   "execution_count": 47,
   "id": "bccac29c",
   "metadata": {},
   "outputs": [],
   "source": [
    "artist_folders = os.listdir(\"lyrics/\")\n",
    "artist_folders = [f for f in artist_folders if os.path.isdir(\"lyrics/\" + f)]\n",
    "\n",
    "for artist in artist_folders : \n",
    "    artist_files = os.listdir(\"lyrics/\" + artist)\n",
    "    artist_files = [f for f in artist_files if 'txt' in f or 'csv' in f or 'tsv' in f]\n",
    "\n",
    "    print(f\"For {artist} we have {len(artist_files)} files.\")\n",
    "\n",
    "    artist_words = []\n",
    "\n",
    "    for f_name in artist_files : \n",
    "        with open(\"lyrics/\" + artist + \"/\" + f_name, encoding=\"utf-8\") as infile : \n",
    "            artist_words.extend(words(infile.read()))\n",
    "\n",
    "            \n",
    "    print(f\"For {artist} we have roughly {len(artist_words)} words, {len(set(artist_words))} are unique.\\n\")\n",
    "\n"
   ]
  },
  {
   "cell_type": "code",
   "execution_count": 50,
   "id": "2475358e",
   "metadata": {},
   "outputs": [
    {
     "name": "stdout",
     "output_type": "stream",
     "text": [
      "=== DIAG: cell is running ===\n",
      "Artists dict keys: ['robyn', 'cher']\n",
      "lyrics_pages is currently EMPTY.\n"
     ]
    }
   ],
   "source": [
    "print(\"=== DIAG: cell is running ===\")\n",
    "\n",
    "try:\n",
    "    print(\"Artists dict keys:\", list(artists.keys()))\n",
    "except NameError:\n",
    "    print(\"Variable 'artists' is not defined. Run the imports / artists cell first.\")\n",
    "\n",
    "try:\n",
    "    if not lyrics_pages:\n",
    "        print(\"lyrics_pages is currently EMPTY.\")\n",
    "    else:\n",
    "        for a, links in lyrics_pages.items():\n",
    "            print(f\"{a}: {len(links)} links in memory\")\n",
    "except NameError:\n",
    "    print(\"Variable 'lyrics_pages' is not defined. Run the link-collection cell.\")\n"
   ]
  },
  {
   "cell_type": "code",
   "execution_count": null,
   "id": "0a3829e5",
   "metadata": {},
   "outputs": [
    {
     "name": "stdout",
     "output_type": "stream",
     "text": [
      "robyn: BLOCKED on artist page (access page returned).\n",
      "cher: BLOCKED on artist page (access page returned).\n",
      "lyrics_pages remains empty → run DIAG 2 to check for blocking.\n"
     ]
    }
   ],
   "source": [
    "# === Rebuild lyrics_pages ===\n",
    "\n",
    "def is_block_page(html: str) -> bool:\n",
    "    return (\"AZLyrics - request for access\" in html) or ('noindex,nofollow' in html)\n",
    "\n",
    "lyrics_pages = defaultdict(list)\n",
    "\n",
    "for artist, artist_page in artists.items():\n",
    "    # fetch artist page with polite delay\n",
    "    r = requests.get(artist_page, headers={\"User-Agent\": \"Mozilla/5.0\"}, timeout=30)\n",
    "    time.sleep(5 + 10*random.random())\n",
    "    if r.status_code != 200:\n",
    "        print(f\"{artist}: HTTP {r.status_code} on artist page\")\n",
    "        continue\n",
    "    if is_block_page(r.text):\n",
    "        print(f\"{artist}: BLOCKED on artist page (access page returned).\")\n",
    "        continue\n",
    "\n",
    "    soup = BeautifulSoup(r.text, \"html.parser\")\n",
    "\n",
    "    # primary selector\n",
    "    for a in soup.select(\"div.listalbum-item a\"):\n",
    "        href = a.get(\"href\")\n",
    "        if href and \"/lyrics/\" in href:\n",
    "            lyrics_pages[artist].append(urljoin(\"https://www.azlyrics.com/\", href))\n",
    "\n",
    "    # fallback if primary yields nothing\n",
    "    if not lyrics_pages[artist]:\n",
    "        for a in soup.find_all(\"a\", href=True):\n",
    "            href = a[\"href\"]\n",
    "            if \"/lyrics/\" in href:\n",
    "                lyrics_pages[artist].append(urljoin(\"https://www.azlyrics.com/\", href))\n",
    "\n",
    "    # de-duplicate while preserving order\n",
    "    lyrics_pages[artist] = list(dict.fromkeys(lyrics_pages[artist]))\n",
    "    print(f\"{artist}: {len(lyrics_pages[artist])} links collected\")\n",
    "\n",
    "# quick sanity\n",
    "if not lyrics_pages:\n",
    "    print(\"lyrics_pages remains empty → run DIAG 2 to check for blocking.\")\n"
   ]
  },
  {
   "cell_type": "code",
   "execution_count": null,
   "id": "1d8124f6",
   "metadata": {},
   "outputs": [
    {
     "name": "stdout",
     "output_type": "stream",
     "text": [
      "\n",
      "--- Final rundown ---\n"
     ]
    }
   ],
   "source": [
    "print(\"\\n--- Final rundown ---\")\n",
    "for artist in sorted(os.listdir(\"lyrics\")):\n",
    "    d = os.path.join(\"lyrics\", artist)\n",
    "    if os.path.isdir(d):\n",
    "        n = len([f for f in os.listdir(d) if f.endswith(\".txt\")])\n",
    "        print(f\"{artist}: {n} files in lyrics/{artist}\")\n"
   ]
  },
  {
   "cell_type": "code",
   "execution_count": null,
   "id": "b47a543f",
   "metadata": {},
   "outputs": [],
   "source": []
  }
 ],
 "metadata": {
  "kernelspec": {
   "display_name": "Python 3",
   "language": "python",
   "name": "python3"
  },
  "language_info": {
   "codemirror_mode": {
    "name": "ipython",
    "version": 3
   },
   "file_extension": ".py",
   "mimetype": "text/x-python",
   "name": "python",
   "nbconvert_exporter": "python",
   "pygments_lexer": "ipython3",
   "version": "3.12.10"
  }
 },
 "nbformat": 4,
 "nbformat_minor": 5
}
